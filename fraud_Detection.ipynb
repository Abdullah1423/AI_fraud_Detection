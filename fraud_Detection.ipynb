{
  "cells": [
    {
      "cell_type": "code",
      "execution_count": 1,
      "metadata": {},
      "outputs": [],
      "source": [
        "import numpy as np\n",
        "import matplotlib.pyplot as plt\n",
        "import seaborn as sns\n",
        "import pandas as pd\n",
        "import numpy as np\n",
        "import matplotlib.pyplot as plt\n",
        "import struct\n",
        "import torch\n",
        "import json\n",
        "import os\n",
        "from IPython.display import Image"
      ]
    },
    {
      "cell_type": "markdown",
      "metadata": {},
      "source": []
    },
    {
      "cell_type": "markdown",
      "metadata": {},
      "source": [
        "### Import the above libraries Using pip install command on your terminal \n",
        "### Plese Ensure that you have downloaded python version 3.10\n",
        "For more about github Visit Click [HERE](https://www.freecodecamp.org/news/introduction-to-git-and-github/)\n",
        "you don't need to memories the commands \n",
        "\n",
        "you just need to [install Visual studion](https://code.visualstudio.com/download) code and download these extension from inside Visual studion code\n",
        "\n",
        "Extension 1: Git Graph\n",
        "Extension 2: GitLens\n",
        "\n",
        "or you can down loada GIT Kraken If you are planning to use another [editor](https://www.gitkraken.com/download)"
      ]
    },
    {
      "cell_type": "markdown",
      "metadata": {},
      "source": []
    }
  ],
  "metadata": {
    "kernelspec": {
      "display_name": "Python 3",
      "language": "python",
      "name": "python3"
    },
    "language_info": {
      "codemirror_mode": {
        "name": "ipython",
        "version": 3
      },
      "file_extension": ".py",
      "mimetype": "text/x-python",
      "name": "python",
      "nbconvert_exporter": "python",
      "pygments_lexer": "ipython3",
      "version": "3.11.0"
    }
  },
  "nbformat": 4,
  "nbformat_minor": 2
}
